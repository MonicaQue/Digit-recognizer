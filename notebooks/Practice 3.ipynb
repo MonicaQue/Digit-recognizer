{
 "cells": [
  {
   "cell_type": "code",
   "execution_count": 18,
   "source": [
    "import pandas as pd\r\n",
    "import numpy as np\r\n",
    "import tensorflow as tf\r\n",
    "import tensorflow.keras as kr\r\n",
    "import os, sys"
   ],
   "outputs": [],
   "metadata": {}
  },
  {
   "cell_type": "code",
   "execution_count": 19,
   "source": [
    "import utils"
   ],
   "outputs": [],
   "metadata": {}
  },
  {
   "cell_type": "code",
   "execution_count": 20,
   "source": [
    "#Loading the data\r\n",
    "train = pd.read_csv(\"../input/train.csv\")\r\n",
    "test = pd.read_csv(\"../input/test.csv\")\r\n",
    "\r\n",
    "train.shape, test.shape"
   ],
   "outputs": [
    {
     "output_type": "execute_result",
     "data": {
      "text/plain": [
       "((42000, 785), (28000, 784))"
      ]
     },
     "metadata": {},
     "execution_count": 20
    }
   ],
   "metadata": {}
  },
  {
   "cell_type": "code",
   "execution_count": 21,
   "source": [
    "#Preparing the data\r\n",
    "x_train = train.drop([\"label\"], axis=1).astype(\"float32\")\r\n",
    "y_train = train[\"label\"].astype(\"int32\")\r\n",
    "x_test = test.astype(\"float32\")\r\n",
    "x_train = (x_train.values.reshape(-1, 28, 28, 1))/255.0\r\n",
    "x_test = (x_test.values.reshape(-1, 28, 28, 1))/255.0\r\n",
    "y_train = kr.utils.to_categorical(y_train, 10)"
   ],
   "outputs": [],
   "metadata": {}
  },
  {
   "cell_type": "code",
   "execution_count": 22,
   "source": [
    "x_train.shape, x_test.shape, y_train.shape"
   ],
   "outputs": [
    {
     "output_type": "execute_result",
     "data": {
      "text/plain": [
       "((42000, 28, 28, 1), (28000, 28, 28, 1), (42000, 10))"
      ]
     },
     "metadata": {},
     "execution_count": 22
    }
   ],
   "metadata": {}
  },
  {
   "cell_type": "code",
   "execution_count": 61,
   "source": [
    "model = kr.models.Sequential([\r\n",
    "    kr.layers.InputLayer((28, 28, 1)),\r\n",
    "    kr.layers.Conv2D(32, (3, 3), activation=\"relu\"),\r\n",
    "    kr.layers.Conv2D(32, (3, 3), activation=\"relu\"),\r\n",
    "    kr.layers.MaxPooling2D(),\r\n",
    "    kr.layers.Dropout(0.25),\r\n",
    "    kr.layers.Conv2D(64, (3, 3), activation=\"relu\", padding=\"Same\"),\r\n",
    "    kr.layers.Conv2D(64, (3, 3), activation=\"relu\", padding=\"Same\"),\r\n",
    "    kr.layers.Conv2D(64, (3, 3), activation=\"relu\", padding=\"Same\"),\r\n",
    "    kr.layers.MaxPooling2D(),\r\n",
    "    kr.layers.Dropout(0.50),\r\n",
    "    kr.layers.Conv2D(64, (3, 3), activation=\"relu\", padding=\"Same\"),\r\n",
    "    kr.layers.Conv2D(64, (3, 3), activation=\"relu\", padding=\"Same\"),\r\n",
    "    kr.layers.Conv2D(64, (3, 3), activation=\"relu\", padding=\"Same\"),\r\n",
    "    kr.layers.MaxPooling2D(),\r\n",
    "    kr.layers.Dropout(0.25),\r\n",
    "    kr.layers.Flatten(),\r\n",
    "    kr.layers.Dense(10, activation=\"softmax\")\r\n",
    "])\r\n",
    "\r\n",
    "\r\n",
    "model.summary()\r\n",
    "\r\n",
    "optimizer = kr.optimizers.Adam(\r\n",
    "    learning_rate= 0.001,\r\n",
    "    beta_1= 0.9,\r\n",
    "    beta_2 = 0.999,\r\n",
    "    epsilon = 1e-07,\r\n",
    "    name = \"Adam\"\r\n",
    ")\r\n",
    "\r\n",
    "model.compile(\r\n",
    "    loss = \"categorical_crossentropy\",\r\n",
    "    optimizer = optimizer,\r\n",
    "    metrics = [\"accuracy\"]\r\n",
    ")"
   ],
   "outputs": [
    {
     "output_type": "stream",
     "name": "stdout",
     "text": [
      "Model: \"sequential_34\"\n",
      "_________________________________________________________________\n",
      "Layer (type)                 Output Shape              Param #   \n",
      "=================================================================\n",
      "conv2d_357 (Conv2D)          (None, 26, 26, 32)        320       \n",
      "_________________________________________________________________\n",
      "conv2d_358 (Conv2D)          (None, 24, 24, 32)        9248      \n",
      "_________________________________________________________________\n",
      "conv2d_359 (Conv2D)          (None, 22, 22, 32)        9248      \n",
      "_________________________________________________________________\n",
      "conv2d_360 (Conv2D)          (None, 20, 20, 32)        9248      \n",
      "_________________________________________________________________\n",
      "max_pooling2d_133 (MaxPoolin (None, 10, 10, 32)        0         \n",
      "_________________________________________________________________\n",
      "dropout_97 (Dropout)         (None, 10, 10, 32)        0         \n",
      "_________________________________________________________________\n",
      "conv2d_361 (Conv2D)          (None, 10, 10, 64)        18496     \n",
      "_________________________________________________________________\n",
      "conv2d_362 (Conv2D)          (None, 10, 10, 128)       73856     \n",
      "_________________________________________________________________\n",
      "conv2d_363 (Conv2D)          (None, 10, 10, 128)       147584    \n",
      "_________________________________________________________________\n",
      "conv2d_364 (Conv2D)          (None, 10, 10, 128)       147584    \n",
      "_________________________________________________________________\n",
      "conv2d_365 (Conv2D)          (None, 10, 10, 64)        73792     \n",
      "_________________________________________________________________\n",
      "max_pooling2d_134 (MaxPoolin (None, 5, 5, 64)          0         \n",
      "_________________________________________________________________\n",
      "dropout_98 (Dropout)         (None, 5, 5, 64)          0         \n",
      "_________________________________________________________________\n",
      "conv2d_366 (Conv2D)          (None, 5, 5, 64)          36928     \n",
      "_________________________________________________________________\n",
      "conv2d_367 (Conv2D)          (None, 5, 5, 64)          36928     \n",
      "_________________________________________________________________\n",
      "conv2d_368 (Conv2D)          (None, 5, 5, 32)          18464     \n",
      "_________________________________________________________________\n",
      "conv2d_369 (Conv2D)          (None, 5, 5, 64)          18496     \n",
      "_________________________________________________________________\n",
      "conv2d_370 (Conv2D)          (None, 5, 5, 64)          36928     \n",
      "_________________________________________________________________\n",
      "max_pooling2d_135 (MaxPoolin (None, 2, 2, 64)          0         \n",
      "_________________________________________________________________\n",
      "dropout_99 (Dropout)         (None, 2, 2, 64)          0         \n",
      "_________________________________________________________________\n",
      "conv2d_371 (Conv2D)          (None, 2, 2, 64)          36928     \n",
      "_________________________________________________________________\n",
      "conv2d_372 (Conv2D)          (None, 2, 2, 64)          36928     \n",
      "_________________________________________________________________\n",
      "conv2d_373 (Conv2D)          (None, 2, 2, 64)          36928     \n",
      "_________________________________________________________________\n",
      "conv2d_374 (Conv2D)          (None, 2, 2, 64)          36928     \n",
      "_________________________________________________________________\n",
      "max_pooling2d_136 (MaxPoolin (None, 1, 1, 64)          0         \n",
      "_________________________________________________________________\n",
      "flatten_34 (Flatten)         (None, 64)                0         \n",
      "_________________________________________________________________\n",
      "dense_38 (Dense)             (None, 10)                650       \n",
      "=================================================================\n",
      "Total params: 785,482\n",
      "Trainable params: 785,482\n",
      "Non-trainable params: 0\n",
      "_________________________________________________________________\n"
     ]
    }
   ],
   "metadata": {}
  },
  {
   "cell_type": "code",
   "execution_count": 45,
   "source": [
    "print(\"Shapes:  \", y_train.shape, model.output_shape)\r\n",
    "print(\"Model complexity:  \", model.count_params())"
   ],
   "outputs": [
    {
     "output_type": "stream",
     "name": "stdout",
     "text": [
      "Shapes:   (42000, 10) (None, 10)\n",
      "Model complexity:   545514\n"
     ]
    }
   ],
   "metadata": {}
  },
  {
   "cell_type": "code",
   "execution_count": 62,
   "source": [
    "model.fit(x = x_train, y = y_train, batch_size=50, epochs = 12)"
   ],
   "outputs": [
    {
     "output_type": "stream",
     "name": "stdout",
     "text": [
      "Epoch 1/12\n",
      "840/840 [==============================] - 336s 398ms/step - loss: 0.7841 - accuracy: 0.7146\n",
      "Epoch 2/12\n",
      "840/840 [==============================] - 366s 436ms/step - loss: 0.1387 - accuracy: 0.9640\n",
      "Epoch 3/12\n",
      "840/840 [==============================] - 356s 424ms/step - loss: 0.0924 - accuracy: 0.9758\n",
      "Epoch 4/12\n",
      "840/840 [==============================] - 371s 442ms/step - loss: 0.0821 - accuracy: 0.9788\n",
      "Epoch 5/12\n",
      "840/840 [==============================] - 351s 417ms/step - loss: 0.0747 - accuracy: 0.9815\n",
      "Epoch 6/12\n",
      "840/840 [==============================] - 353s 420ms/step - loss: 0.0643 - accuracy: 0.9836\n",
      "Epoch 7/12\n",
      "840/840 [==============================] - 364s 433ms/step - loss: 0.0621 - accuracy: 0.9848\n",
      "Epoch 8/12\n",
      "840/840 [==============================] - 361s 430ms/step - loss: 0.0575 - accuracy: 0.9855\n",
      "Epoch 9/12\n",
      "840/840 [==============================] - 348s 414ms/step - loss: 0.0512 - accuracy: 0.9870\n",
      "Epoch 10/12\n",
      "840/840 [==============================] - 350s 417ms/step - loss: 0.0527 - accuracy: 0.9870\n",
      "Epoch 11/12\n",
      "840/840 [==============================] - 350s 416ms/step - loss: 0.0452 - accuracy: 0.9891\n",
      "Epoch 12/12\n",
      "840/840 [==============================] - 355s 422ms/step - loss: 0.0516 - accuracy: 0.9879\n"
     ]
    },
    {
     "output_type": "execute_result",
     "data": {
      "text/plain": [
       "<tensorflow.python.keras.callbacks.History at 0x23eda5670d0>"
      ]
     },
     "metadata": {},
     "execution_count": 62
    }
   ],
   "metadata": {}
  },
  {
   "cell_type": "code",
   "execution_count": 63,
   "source": [
    "results = model.predict(x_test)\r\n",
    "results = np.argmax(results, axis=1)\r\n",
    "results = pd.Series(results, name=\"Label\")\r\n",
    "image_id = pd.Series(range(1, 28001), name = \"ImageId\")\r\n",
    "submission = pd.concat([image_id, results], axis = 1)\r\n",
    "submission.to_csv(\"../output/practice4.csv\", index=False)"
   ],
   "outputs": [],
   "metadata": {}
  },
  {
   "cell_type": "code",
   "execution_count": null,
   "source": [],
   "outputs": [],
   "metadata": {}
  }
 ],
 "metadata": {
  "orig_nbformat": 4,
  "language_info": {
   "name": "python",
   "version": "3.9.6",
   "mimetype": "text/x-python",
   "codemirror_mode": {
    "name": "ipython",
    "version": 3
   },
   "pygments_lexer": "ipython3",
   "nbconvert_exporter": "python",
   "file_extension": ".py"
  },
  "kernelspec": {
   "name": "python3",
   "display_name": "Python 3.9.6 64-bit (windows store)"
  },
  "interpreter": {
   "hash": "e5d18f6eacdcdb8c012d846e487a52eccf0e5d872744776c714b78e05b214619"
  }
 },
 "nbformat": 4,
 "nbformat_minor": 2
}