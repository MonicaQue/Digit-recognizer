{
 "cells": [
  {
   "cell_type": "code",
   "execution_count": 53,
   "source": [
    "import pandas as pd\r\n",
    "import numpy as np\r\n",
    "import tensorflow as tf\r\n",
    "import tensorflow.keras as kr\r\n",
    "import os, sys"
   ],
   "outputs": [],
   "metadata": {}
  },
  {
   "cell_type": "code",
   "execution_count": 54,
   "source": [
    "import utils"
   ],
   "outputs": [],
   "metadata": {}
  },
  {
   "cell_type": "code",
   "execution_count": 55,
   "source": [
    "#Loading the data\r\n",
    "train = pd.read_csv(\"../input/train.csv\")\r\n",
    "test = pd.read_csv(\"../input/test.csv\")\r\n",
    "\r\n",
    "train.shape, test.shape"
   ],
   "outputs": [
    {
     "output_type": "execute_result",
     "data": {
      "text/plain": [
       "((42000, 785), (28000, 784))"
      ]
     },
     "metadata": {},
     "execution_count": 55
    }
   ],
   "metadata": {}
  },
  {
   "cell_type": "code",
   "execution_count": 56,
   "source": [
    "#Preparing the data\r\n",
    "x_train = train.drop([\"label\"], axis=1).astype(\"float32\")\r\n",
    "y_train = train[\"label\"].astype(\"int32\")\r\n",
    "x_test = test.astype(\"float32\")\r\n",
    "x_train = (x_train.values.reshape(-1, 28, 28, 1))/255.0\r\n",
    "x_test = (x_test.values.reshape(-1, 28, 28, 1))/255.0\r\n",
    "y_train = kr.utils.to_categorical(y_train, 10)"
   ],
   "outputs": [],
   "metadata": {}
  },
  {
   "cell_type": "code",
   "execution_count": 57,
   "source": [
    "x_train.shape, x_test.shape, y_train.shape"
   ],
   "outputs": [
    {
     "output_type": "execute_result",
     "data": {
      "text/plain": [
       "((42000, 28, 28, 1), (28000, 28, 28, 1), (42000, 10))"
      ]
     },
     "metadata": {},
     "execution_count": 57
    }
   ],
   "metadata": {}
  },
  {
   "cell_type": "code",
   "execution_count": 69,
   "source": [
    "model = kr.models.Sequential([\r\n",
    "    kr.layers.Dense(521, activation=\"relu\", input_shape=(28, 28, 1)),\r\n",
    "    kr.layers.Dense(512, activation=\"relu\"),\r\n",
    "    kr.layers.Flatten(),\r\n",
    "    kr.layers.Dense(10, activation=\"softmax\")\r\n",
    "])\r\n",
    "\r\n",
    "model.summary()\r\n",
    "\r\n",
    "optimizer = kr.optimizers.Adam(\r\n",
    "    learning_rate= 0.001,\r\n",
    "    name = \"Adam\"\r\n",
    ")\r\n",
    "\r\n",
    "model.compile(\r\n",
    "    loss = \"categorical_crossentropy\",\r\n",
    "    optimizer = optimizer,\r\n",
    "    metrics = [\"accuracy\"]\r\n",
    ")"
   ],
   "outputs": [
    {
     "output_type": "stream",
     "name": "stdout",
     "text": [
      "Model: \"sequential_24\"\n",
      "_________________________________________________________________\n",
      "Layer (type)                 Output Shape              Param #   \n",
      "=================================================================\n",
      "dense_72 (Dense)             (None, 28, 28, 521)       1042      \n",
      "_________________________________________________________________\n",
      "dense_73 (Dense)             (None, 28, 28, 512)       267264    \n",
      "_________________________________________________________________\n",
      "flatten_9 (Flatten)          (None, 401408)            0         \n",
      "_________________________________________________________________\n",
      "dense_74 (Dense)             (None, 10)                4014090   \n",
      "=================================================================\n",
      "Total params: 4,282,396\n",
      "Trainable params: 4,282,396\n",
      "Non-trainable params: 0\n",
      "_________________________________________________________________\n"
     ]
    }
   ],
   "metadata": {}
  },
  {
   "cell_type": "code",
   "execution_count": 70,
   "source": [
    "print(\"Shapes:  \", y_train.shape, model.output_shape)\r\n",
    "print(\"Model complexity:  \", model.count_params())"
   ],
   "outputs": [
    {
     "output_type": "stream",
     "name": "stdout",
     "text": [
      "Shapes:   (42000, 10) (None, 10)\n",
      "Model complexity:   4282396\n"
     ]
    }
   ],
   "metadata": {}
  },
  {
   "cell_type": "code",
   "execution_count": 71,
   "source": [
    "model.fit(x = x_train, y = y_train, batch_size=50, epochs = 4)"
   ],
   "outputs": [
    {
     "output_type": "stream",
     "name": "stdout",
     "text": [
      "Epoch 1/4\n",
      "840/840 [==============================] - 947s 1s/step - loss: 0.3660 - accuracy: 0.8936\n",
      "Epoch 2/4\n",
      "840/840 [==============================] - 991s 1s/step - loss: 0.2985 - accuracy: 0.9153\n",
      "Epoch 3/4\n",
      "840/840 [==============================] - 946s 1s/step - loss: 0.2773 - accuracy: 0.9213\n",
      "Epoch 4/4\n",
      "840/840 [==============================] - 1006s 1s/step - loss: 0.2546 - accuracy: 0.9273\n"
     ]
    },
    {
     "output_type": "execute_result",
     "data": {
      "text/plain": [
       "<tensorflow.python.keras.callbacks.History at 0x256498cd400>"
      ]
     },
     "metadata": {},
     "execution_count": 71
    }
   ],
   "metadata": {}
  },
  {
   "cell_type": "code",
   "execution_count": 72,
   "source": [
    "results = model.predict(x_test)\r\n",
    "results = np.argmax(results, axis=1)\r\n",
    "results = pd.Series(results, name=\"Label\")\r\n",
    "image_id = pd.Series(range(1, 28001), name = \"ImageId\")\r\n",
    "submission = pd.concat([image_id, results], axis = 1)\r\n",
    "submission.to_csv(\"../output/practice2.csv\", index=False)"
   ],
   "outputs": [],
   "metadata": {}
  },
  {
   "cell_type": "code",
   "execution_count": null,
   "source": [],
   "outputs": [],
   "metadata": {}
  }
 ],
 "metadata": {
  "orig_nbformat": 4,
  "language_info": {
   "name": "python",
   "version": "3.9.6",
   "mimetype": "text/x-python",
   "codemirror_mode": {
    "name": "ipython",
    "version": 3
   },
   "pygments_lexer": "ipython3",
   "nbconvert_exporter": "python",
   "file_extension": ".py"
  },
  "kernelspec": {
   "name": "python3",
   "display_name": "Python 3.9.6 64-bit (windows store)"
  },
  "interpreter": {
   "hash": "e5d18f6eacdcdb8c012d846e487a52eccf0e5d872744776c714b78e05b214619"
  }
 },
 "nbformat": 4,
 "nbformat_minor": 2
}