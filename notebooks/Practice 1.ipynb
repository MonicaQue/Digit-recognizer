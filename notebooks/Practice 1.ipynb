{
 "cells": [
  {
   "cell_type": "code",
   "execution_count": 2,
   "source": [
    "import pandas as pd\r\n",
    "import numpy as np\r\n",
    "import tensorflow as tf\r\n",
    "import tensorflow.keras as kr\r\n",
    "import os, sys"
   ],
   "outputs": [],
   "metadata": {}
  },
  {
   "cell_type": "code",
   "execution_count": 3,
   "source": [
    "import utils"
   ],
   "outputs": [],
   "metadata": {}
  },
  {
   "cell_type": "code",
   "execution_count": 4,
   "source": [
    "#Loading the data\r\n",
    "train = pd.read_csv(\"../input/train.csv\")\r\n",
    "test = pd.read_csv(\"../input/test.csv\")\r\n",
    "\r\n",
    "train.shape, test.shape"
   ],
   "outputs": [
    {
     "output_type": "execute_result",
     "data": {
      "text/plain": [
       "((42000, 785), (28000, 784))"
      ]
     },
     "metadata": {},
     "execution_count": 4
    }
   ],
   "metadata": {}
  },
  {
   "cell_type": "code",
   "execution_count": 5,
   "source": [
    "#Preparing the data\r\n",
    "x_train = train.drop([\"label\"], axis=1).astype(\"float32\")\r\n",
    "y_train = train[\"label\"].astype(\"int32\")\r\n",
    "x_test = test.astype(\"float32\")\r\n",
    "x_train = (x_train.values.reshape(-1, 28, 28, 1))/255.0\r\n",
    "x_test = (x_test.values.reshape(-1, 28, 28, 1))/255.0\r\n",
    "y_train = kr.utils.to_categorical(y_train, 10)"
   ],
   "outputs": [],
   "metadata": {}
  },
  {
   "cell_type": "code",
   "execution_count": 6,
   "source": [
    "x_train.shape, x_test.shape, y_train.shape"
   ],
   "outputs": [
    {
     "output_type": "execute_result",
     "data": {
      "text/plain": [
       "((42000, 28, 28, 1), (28000, 28, 28, 1), (42000, 10))"
      ]
     },
     "metadata": {},
     "execution_count": 6
    }
   ],
   "metadata": {}
  },
  {
   "cell_type": "code",
   "execution_count": 7,
   "source": [
    "model = kr.models.Sequential([\r\n",
    "    kr.layers.Dense(32, activation=\"relu\", input_shape=(28, 28, 1)),\r\n",
    "    kr.layers.Dense(32, activation=\"relu\"),\r\n",
    "    kr.layers.Dense(32, activation=\"relu\"),\r\n",
    "    kr.layers.Dense(32, activation=\"relu\"),\r\n",
    "    kr.layers.Dense(32, activation=\"relu\"),\r\n",
    "    kr.layers.Dense(32, activation=\"relu\"),\r\n",
    "    kr.layers.Dense(32, activation=\"relu\"),\r\n",
    "    kr.layers.Dense(32, activation=\"relu\"),\r\n",
    "    kr.layers.Dense(32, activation=\"relu\"),\r\n",
    "    kr.layers.Flatten(),\r\n",
    "    kr.layers.Dense(10, activation=\"softmax\")\r\n",
    "])\r\n",
    "\r\n",
    "model.summary()\r\n",
    "\r\n",
    "optimizer = kr.optimizers.Adam(\r\n",
    "    learning_rate= 0.001,\r\n",
    "    name = \"Adam\"\r\n",
    ")\r\n",
    "\r\n",
    "model.compile(\r\n",
    "    loss = \"categorical_crossentropy\",\r\n",
    "    optimizer = optimizer,\r\n",
    "    metrics = [\"accuracy\"]\r\n",
    ")"
   ],
   "outputs": [
    {
     "output_type": "stream",
     "name": "stdout",
     "text": [
      "Model: \"sequential\"\n",
      "_________________________________________________________________\n",
      "Layer (type)                 Output Shape              Param #   \n",
      "=================================================================\n",
      "dense (Dense)                (None, 28, 28, 32)        64        \n",
      "_________________________________________________________________\n",
      "dense_1 (Dense)              (None, 28, 28, 32)        1056      \n",
      "_________________________________________________________________\n",
      "dense_2 (Dense)              (None, 28, 28, 32)        1056      \n",
      "_________________________________________________________________\n",
      "dense_3 (Dense)              (None, 28, 28, 32)        1056      \n",
      "_________________________________________________________________\n",
      "dense_4 (Dense)              (None, 28, 28, 32)        1056      \n",
      "_________________________________________________________________\n",
      "dense_5 (Dense)              (None, 28, 28, 32)        1056      \n",
      "_________________________________________________________________\n",
      "dense_6 (Dense)              (None, 28, 28, 32)        1056      \n",
      "_________________________________________________________________\n",
      "dense_7 (Dense)              (None, 28, 28, 32)        1056      \n",
      "_________________________________________________________________\n",
      "dense_8 (Dense)              (None, 28, 28, 32)        1056      \n",
      "_________________________________________________________________\n",
      "flatten (Flatten)            (None, 25088)             0         \n",
      "_________________________________________________________________\n",
      "dense_9 (Dense)              (None, 10)                250890    \n",
      "=================================================================\n",
      "Total params: 259,402\n",
      "Trainable params: 259,402\n",
      "Non-trainable params: 0\n",
      "_________________________________________________________________\n"
     ]
    }
   ],
   "metadata": {}
  },
  {
   "cell_type": "code",
   "execution_count": 8,
   "source": [
    "print(\"Shapes:  \", y_train.shape, model.output_shape)\r\n",
    "print(\"Model complexity:  \", model.count_params())"
   ],
   "outputs": [
    {
     "output_type": "stream",
     "name": "stdout",
     "text": [
      "Shapes:   (42000, 10) (None, 10)\n",
      "Model complexity:   259402\n"
     ]
    }
   ],
   "metadata": {}
  },
  {
   "cell_type": "markdown",
   "source": [
    "Actually I fit the model for 20 epochs and it spends 1600 sec!!!"
   ],
   "metadata": {}
  },
  {
   "cell_type": "code",
   "execution_count": 11,
   "source": [
    "model.fit(x = x_train, y = y_train, batch_size=50, epochs = 10)"
   ],
   "outputs": [
    {
     "output_type": "stream",
     "name": "stdout",
     "text": [
      "Epoch 1/10\n",
      "840/840 [==============================] - 79s 94ms/step - loss: 0.1544 - accuracy: 0.9536\n",
      "Epoch 2/10\n",
      "840/840 [==============================] - 81s 97ms/step - loss: 0.1430 - accuracy: 0.9559\n",
      "Epoch 3/10\n",
      "840/840 [==============================] - 83s 98ms/step - loss: 0.1354 - accuracy: 0.9589\n",
      "Epoch 4/10\n",
      "840/840 [==============================] - 88s 105ms/step - loss: 0.1259 - accuracy: 0.9613\n",
      "Epoch 5/10\n",
      "840/840 [==============================] - 88s 105ms/step - loss: 0.1205 - accuracy: 0.9618\n",
      "Epoch 6/10\n",
      "840/840 [==============================] - 89s 106ms/step - loss: 0.1105 - accuracy: 0.9653\n",
      "Epoch 7/10\n",
      "840/840 [==============================] - 91s 108ms/step - loss: 0.1038 - accuracy: 0.9665\n",
      "Epoch 8/10\n",
      "840/840 [==============================] - 83s 99ms/step - loss: 0.0979 - accuracy: 0.9682\n",
      "Epoch 9/10\n",
      "840/840 [==============================] - 88s 104ms/step - loss: 0.0860 - accuracy: 0.9726\n",
      "Epoch 10/10\n",
      "840/840 [==============================] - 90s 107ms/step - loss: 0.0763 - accuracy: 0.9753\n"
     ]
    },
    {
     "output_type": "execute_result",
     "data": {
      "text/plain": [
       "<tensorflow.python.keras.callbacks.History at 0x1a96968fa90>"
      ]
     },
     "metadata": {},
     "execution_count": 11
    }
   ],
   "metadata": {}
  },
  {
   "cell_type": "code",
   "execution_count": 12,
   "source": [
    "results = model.predict(x_test)\r\n",
    "results = np.argmax(results, axis=1)\r\n",
    "results = pd.Series(results, name=\"Label\")\r\n",
    "image_id = pd.Series(range(1, 28001), name = \"ImageId\")\r\n",
    "submission = pd.concat([image_id, results], axis = 1)\r\n",
    "submission.to_csv(\"../output/practice1.csv\", index=False)"
   ],
   "outputs": [],
   "metadata": {}
  },
  {
   "cell_type": "code",
   "execution_count": null,
   "source": [],
   "outputs": [],
   "metadata": {}
  }
 ],
 "metadata": {
  "orig_nbformat": 4,
  "language_info": {
   "name": "python",
   "version": "3.9.6",
   "mimetype": "text/x-python",
   "codemirror_mode": {
    "name": "ipython",
    "version": 3
   },
   "pygments_lexer": "ipython3",
   "nbconvert_exporter": "python",
   "file_extension": ".py"
  },
  "kernelspec": {
   "name": "python3",
   "display_name": "Python 3.9.6 64-bit (windows store)"
  },
  "interpreter": {
   "hash": "e5d18f6eacdcdb8c012d846e487a52eccf0e5d872744776c714b78e05b214619"
  }
 },
 "nbformat": 4,
 "nbformat_minor": 2
}